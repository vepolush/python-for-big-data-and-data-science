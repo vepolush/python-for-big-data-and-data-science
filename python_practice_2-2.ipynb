{
  "nbformat": 4,
  "nbformat_minor": 0,
  "metadata": {
    "colab": {
      "provenance": [],
      "collapsed_sections": [
        "p9wwt0LZzNvn",
        "tRxugKAxwYLw",
        "EVJ7AflwxrZi",
        "GYVqN9uP1D4n",
        "pCjR1dJb1Qbi",
        "rW_I9dt3x6cW"
      ]
    },
    "kernelspec": {
      "name": "python3",
      "display_name": "Python 3"
    },
    "language_info": {
      "name": "python"
    }
  },
  "cells": [
    {
      "cell_type": "markdown",
      "source": [],
      "metadata": {
        "id": "pYMU0ZqD5nF0"
      }
    },
    {
      "cell_type": "markdown",
      "source": [
        "# I. Змінні та памʼять."
      ],
      "metadata": {
        "id": "p9wwt0LZzNvn"
      }
    },
    {
      "cell_type": "markdown",
      "source": [
        "1. Створити змінні, що посилаються на два цілих числа, що однакові за значенням, де значення належить проміжку від -5 до 256. Перевірте, чи будуть ці змінні рівні тільки за значенням або ж ще будуть посилатися на один і той самий обʼєкт в памʼяті? Наведіть код та дайте текстову відповідь нижче."
      ],
      "metadata": {
        "id": "HTJrrm95xSV9"
      }
    },
    {
      "cell_type": "code",
      "execution_count": null,
      "metadata": {
        "id": "TATni2vzayjG",
        "colab": {
          "base_uri": "https://localhost:8080/"
        },
        "outputId": "96bca671-d168-454c-b1b4-7807d1f06cfd"
      },
      "outputs": [
        {
          "output_type": "stream",
          "name": "stdout",
          "text": [
            "True\n",
            "The 19's id is 10751432 and the 19's id is 10751432\n"
          ]
        }
      ],
      "source": [
        "a = 19\n",
        "b = 19\n",
        "print(a == b)\n",
        "print(f\"The {a}'s id is {id(a)} and the {b}'s id is {id(b)}\")"
      ]
    },
    {
      "cell_type": "markdown",
      "source": [
        "Змінні `a` та `b` рівні за значенням, оскільки `a == b --> True`. Також, змінні `a` та `b` посилаються на один і той самий об'єкт в пам'яті. Це відбувається через те, що `Python` використовує оптимізацію пам'яті для числе у діапазоні від `-5` до `256`.\n"
      ],
      "metadata": {
        "id": "zfRG_o3WbRdg"
      }
    },
    {
      "cell_type": "markdown",
      "source": [
        "2. За допомогою якої функції можна перевірити належність змінної до вказаного типу даних (напр. чи змінна True посилається на значення булевого та цілочисленого типу)?"
      ],
      "metadata": {
        "id": "ISORzt6M3vAt"
      }
    },
    {
      "cell_type": "code",
      "source": [
        "a = True\n",
        "print(isinstance(True, bool))\n",
        "print(isinstance(True, int))\n",
        "print(isinstance(True, str))\n",
        "print(isinstance(True, float))"
      ],
      "metadata": {
        "id": "9vL9CFaMbfyo",
        "colab": {
          "base_uri": "https://localhost:8080/"
        },
        "outputId": "2c93284c-4c82-4434-bd7d-34542464a202"
      },
      "execution_count": null,
      "outputs": [
        {
          "output_type": "stream",
          "name": "stdout",
          "text": [
            "True\n",
            "True\n",
            "False\n",
            "False\n"
          ]
        }
      ]
    },
    {
      "cell_type": "markdown",
      "source": [
        "# II. Цілі числа та числа з рухомою комою"
      ],
      "metadata": {
        "id": "tRxugKAxwYLw"
      }
    },
    {
      "cell_type": "markdown",
      "source": [
        "3. Створити дві змінні, що посилаються на будь-які ціле число та число з рухомою комою та продемонструвати такі арифметичні операції: додавання, віднімання, ділення, множення, ділення без залишку, ділення по модулю, приведення до ступеню. Всі результати операцій вивести на екран."
      ],
      "metadata": {
        "id": "NLHkgd5Gybc8"
      }
    },
    {
      "cell_type": "code",
      "source": [
        "a = 17\n",
        "b = 3.5\n",
        "\n",
        "addition = a + b\n",
        "subtraction = a - b\n",
        "division = b / a\n",
        "multiplication = b * a\n",
        "division_without_remainder = a // b\n",
        "modulus = a % b\n",
        "bringing_to_a_degree = b ** a\n",
        "\n",
        "print(f\"Додавання: {addition}\")\n",
        "print(f\"Віднімання: {subtraction}\")\n",
        "print(f\"Ділення: {division}\")\n",
        "print(f\"Множення: {multiplication}\")\n",
        "print(f\"Ділення без залишку: {division_without_remainder}\")\n",
        "print(f\"Дідення по модулю: {modulus}\")\n",
        "print(f\"Приведення до ступеню: {bringing_to_a_degree}\")"
      ],
      "metadata": {
        "id": "nb8u_3pjb2cA",
        "colab": {
          "base_uri": "https://localhost:8080/"
        },
        "outputId": "daec94f3-b4af-4501-cfef-51b950d24e70"
      },
      "execution_count": null,
      "outputs": [
        {
          "output_type": "stream",
          "name": "stdout",
          "text": [
            "Додавання: 20.5\n",
            "Віднімання: 13.5\n",
            "Ділення: 0.20588235294117646\n",
            "Множення: 59.5\n",
            "Ділення без залишку: 4.0\n",
            "Дідення по модулю: 3.0\n",
            "Приведення до ступеню: 1774829971.2158737\n"
          ]
        }
      ]
    },
    {
      "cell_type": "markdown",
      "source": [
        "4. Використовуючи змінні з вправи 3, продемонструйте механізм явного перетворення типів, де числа з рухомою комою перетворюються на цілі числа. Також визначте змінну, що посилається на значення булевого типу і спробуйте явно привести її до цілого числа."
      ],
      "metadata": {
        "id": "1kBClKgPzZnC"
      }
    },
    {
      "cell_type": "code",
      "source": [
        "a = 17\n",
        "b = 3.5\n",
        "c = False\n",
        "\n",
        "print(type(a))\n",
        "print(type(b))\n",
        "print(type(c))\n",
        "\n",
        "float_to_int = int(b)\n",
        "print(f\"Змінна b після змін: {type(float_to_int)}\")\n",
        "\n",
        "print(f\"Змінна c у вигляді цілого числа: {int(c)}\")"
      ],
      "metadata": {
        "id": "TbqJbkeUcKsD",
        "colab": {
          "base_uri": "https://localhost:8080/"
        },
        "outputId": "334021ad-ed5d-4122-fe73-e985843126de"
      },
      "execution_count": null,
      "outputs": [
        {
          "output_type": "stream",
          "name": "stdout",
          "text": [
            "<class 'int'>\n",
            "<class 'float'>\n",
            "<class 'bool'>\n",
            "Змінна b після змін: <class 'int'>\n",
            "Змінна c у вигляді цілого числа: 0\n"
          ]
        }
      ]
    },
    {
      "cell_type": "markdown",
      "source": [
        "# IІІ. Рядки (String)."
      ],
      "metadata": {
        "id": "EVJ7AflwxrZi"
      }
    },
    {
      "cell_type": "markdown",
      "source": [
        "5. Створити пустий рядок двома різними способами."
      ],
      "metadata": {
        "id": "_s5ECzz9zE61"
      }
    },
    {
      "cell_type": "code",
      "source": [
        "a = ''\n",
        "b = str()\n",
        "\n",
        "print(a)\n",
        "print(b)"
      ],
      "metadata": {
        "id": "fkZJHu9Scvc-",
        "colab": {
          "base_uri": "https://localhost:8080/"
        },
        "outputId": "5215779c-23df-4da0-b5db-28a09b07b72f"
      },
      "execution_count": 38,
      "outputs": [
        {
          "output_type": "stream",
          "name": "stdout",
          "text": [
            "\n",
            "\n"
          ]
        }
      ]
    },
    {
      "cell_type": "markdown",
      "source": [
        "6. Створити рядок з апострофом. Зробити його сирим. Вивести обидва рядка на екран."
      ],
      "metadata": {
        "id": "4Bdn9J3MzLf_"
      }
    },
    {
      "cell_type": "code",
      "source": [
        "a = \"Рядок ' з апо'строфами ''\"\n",
        "print(a)"
      ],
      "metadata": {
        "id": "ivji_hsmc0GH",
        "colab": {
          "base_uri": "https://localhost:8080/"
        },
        "outputId": "3d34979a-c4a9-46e0-e414-236dac624a97"
      },
      "execution_count": 39,
      "outputs": [
        {
          "output_type": "stream",
          "name": "stdout",
          "text": [
            "Рядок ' з апо'строфами ''\n"
          ]
        }
      ]
    },
    {
      "cell_type": "markdown",
      "source": [
        "Не дуже зроумів, чому потрібно вивести \"обидва\" рядки на екран. В завданні вказано створити тільки один рядок"
      ],
      "metadata": {
        "id": "3WsawBCZB1vR"
      }
    },
    {
      "cell_type": "markdown",
      "source": [
        "7. Створити змінну, що буде посилатися на Ваше прізвище латинкою. Створити форматований рядок, який буде мати вигляд \"My surname is ______\", де на місці нижніх підкреслень буде Ваше прізвище зі змінної."
      ],
      "metadata": {
        "id": "bg_d8wM4z8dS"
      }
    },
    {
      "cell_type": "code",
      "source": [
        "surname = \"Shulepov\"\n",
        "\n",
        "res = f\"My surname is {surname}\"\n",
        "\n",
        "print(res)"
      ],
      "metadata": {
        "id": "kuxFgpWndACq",
        "colab": {
          "base_uri": "https://localhost:8080/"
        },
        "outputId": "a6316a87-1f12-4d5a-dbdb-c7b9144f00ae"
      },
      "execution_count": 41,
      "outputs": [
        {
          "output_type": "stream",
          "name": "stdout",
          "text": [
            "My surname is Shulepov\n"
          ]
        }
      ]
    },
    {
      "cell_type": "markdown",
      "source": [
        "8. Маючи рядок \"My dog is crazy.\" перетворити його на список [\"my\", \"dog\", \"is\", \"crazy\"]"
      ],
      "metadata": {
        "id": "1Nc6RqvQ0hxU"
      }
    },
    {
      "cell_type": "code",
      "source": [
        "s = \"My dog is crazy\"\n",
        "l = s.split()\n",
        "\n",
        "print(l)"
      ],
      "metadata": {
        "id": "w1Ya4RqedUhw",
        "colab": {
          "base_uri": "https://localhost:8080/"
        },
        "outputId": "2e1a52e1-3e9c-424c-9bf9-4ec6cbbf81b4"
      },
      "execution_count": 54,
      "outputs": [
        {
          "output_type": "stream",
          "name": "stdout",
          "text": [
            "['My', 'dog', 'is', 'crazy']\n"
          ]
        }
      ]
    },
    {
      "cell_type": "markdown",
      "source": [
        "# IV. Робота зі списками."
      ],
      "metadata": {
        "id": "GYVqN9uP1D4n"
      }
    },
    {
      "cell_type": "markdown",
      "source": [
        "9. Створити список двома різними за синтаксисом способами. За допомогою вбудованої функції обчисліть довжину одного з них."
      ],
      "metadata": {
        "id": "7-DeDunw2sO-"
      }
    },
    {
      "cell_type": "code",
      "source": [
        "a = [1, 2, 3]\n",
        "b = list((1, 2, 3))\n",
        "\n",
        "print(f\"Довжина списку a: {len(a)}\")\n",
        "print(f\"Список b: {b}\")"
      ],
      "metadata": {
        "id": "zxg06Uuxdyoh",
        "colab": {
          "base_uri": "https://localhost:8080/"
        },
        "outputId": "571bee6c-ddb8-498d-a1e6-7257bd44d9c0"
      },
      "execution_count": 58,
      "outputs": [
        {
          "output_type": "stream",
          "name": "stdout",
          "text": [
            "Довжина списку a: 3\n",
            "Список b: [1, 2, 3]\n"
          ]
        }
      ]
    },
    {
      "cell_type": "markdown",
      "source": [
        "10. Створіть два списка та за допомогою спеціального методу додайте другий з них в якості останнього елемента першого."
      ],
      "metadata": {
        "id": "8vmGUTjL22gI"
      }
    },
    {
      "cell_type": "code",
      "source": [
        "a = [1, 2, 3]\n",
        "b = [4, 5, 6]\n",
        "\n",
        "a.append(b)\n",
        "\n",
        "print(a)"
      ],
      "metadata": {
        "id": "uHtjWYw7d7hm",
        "colab": {
          "base_uri": "https://localhost:8080/"
        },
        "outputId": "899c58e9-0ab1-4ba0-8b93-0e84451a6c7a"
      },
      "execution_count": 62,
      "outputs": [
        {
          "output_type": "stream",
          "name": "stdout",
          "text": [
            "[1, 2, 3, [4, 5, 6]]\n"
          ]
        }
      ]
    },
    {
      "cell_type": "markdown",
      "source": [
        "11. Створіть список, де елементами цього списку також є списки. Отримай перший елемент з останнього рядка та виведи значення на екран."
      ],
      "metadata": {
        "id": "JC3BkD-67_--"
      }
    },
    {
      "cell_type": "code",
      "source": [
        "nested_list = [[1, 2, 3], ['a', 'b', 'c'], [0.1, 0.2, 0.3], [True, False]]\n",
        "\n",
        "first_element = nested_list[-1][0]\n",
        "\n",
        "print(first_element)"
      ],
      "metadata": {
        "id": "Kz2jZHsGeLlz",
        "colab": {
          "base_uri": "https://localhost:8080/"
        },
        "outputId": "1a6382ad-149f-4e8e-e817-1559db91c83e"
      },
      "execution_count": 64,
      "outputs": [
        {
          "output_type": "stream",
          "name": "stdout",
          "text": [
            "True\n"
          ]
        }
      ]
    },
    {
      "cell_type": "markdown",
      "source": [
        "Не дуже зрозумів умову. Як це \"перший елемент з ОСТАННЬОГО РЯДКА\"?\n",
        "\n"
      ],
      "metadata": {
        "id": "MTFVh87kBP8p"
      }
    },
    {
      "cell_type": "markdown",
      "source": [
        "12. Створіть список з десяти елементів різного типу. Отримайте всі елементи, окрім двох перших та двох останніх та збережіть їх в новій змінній."
      ],
      "metadata": {
        "id": "JA47PKTv8zFK"
      }
    },
    {
      "cell_type": "code",
      "source": [
        "l = [1, 3j + 4, 19.2, True, (1, 2, 3), [\"Vladyslav\", \"Antonina\"], \"Python\", {1: 'a', 2: 'b', 3: 'c'}, {\"Computer\", \"Mouse\", \"Keyboard\"}, 'p']\n",
        "\n",
        "res = l[2:-2]\n",
        "\n",
        "print(res)"
      ],
      "metadata": {
        "id": "_rHdUR-ueP4-",
        "colab": {
          "base_uri": "https://localhost:8080/"
        },
        "outputId": "22c689b0-4b4a-4e6c-dcd7-7e8197ca66aa"
      },
      "execution_count": 67,
      "outputs": [
        {
          "output_type": "stream",
          "name": "stdout",
          "text": [
            "[19.2, True, (1, 2, 3), ['Vladyslav', 'Antonina'], 'Python', {1: 'a', 2: 'b', 3: 'c'}]\n"
          ]
        }
      ]
    },
    {
      "cell_type": "markdown",
      "source": [
        "# V. Робота з кортежами."
      ],
      "metadata": {
        "id": "pCjR1dJb1Qbi"
      }
    },
    {
      "cell_type": "markdown",
      "source": [
        "14. Створити кортеж з один елементом."
      ],
      "metadata": {
        "id": "fAZCxAX06R_k"
      }
    },
    {
      "cell_type": "code",
      "source": [
        "a = (1,)\n",
        "\n",
        "print(type(a))"
      ],
      "metadata": {
        "id": "H7d82WkQev3e",
        "colab": {
          "base_uri": "https://localhost:8080/"
        },
        "outputId": "77479e17-d0cc-4954-adce-6831db72bf68"
      },
      "execution_count": 70,
      "outputs": [
        {
          "output_type": "stream",
          "name": "stdout",
          "text": [
            "<class 'tuple'>\n"
          ]
        }
      ]
    },
    {
      "cell_type": "markdown",
      "source": [
        "15. Порівняйте список та кортеж. Назвіть схожості та відмінності, випадки використання."
      ],
      "metadata": {
        "id": "8LCtYcmI6w1M"
      }
    },
    {
      "cell_type": "markdown",
      "source": [
        "Список:\n",
        "* Синтакис - []\n",
        "* Можна змінювати\n",
        "* Повільний тип\n",
        "* Займає більше пам'яті\n",
        "* Більше вбудованих методів\n",
        "* Є послідовність\n",
        "* Є індексування\n",
        "* Краще використовувати з данними, які можуть бути зміненими\n",
        "\n",
        "Кортеж:\n",
        "* Синтаксис - ()\n",
        "* Не можна змінювати\n",
        "* Швидкий\n",
        "* Займає менше пам'яті\n",
        "* Менше вбудованих методів\n",
        "* Є послідовність\n",
        "* Є індексування\n",
        "* Краще використовувати з незмінними (статичними) данними. Наприклад, дати народження, назви місяців, назви Країн і тд і тп"
      ],
      "metadata": {
        "id": "fUsN1Hnue0C6"
      }
    },
    {
      "cell_type": "markdown",
      "source": [
        "16. Створіть кортеж з 11ти елементів чисел з рухомою комою та отримайте кожен парний за індексом елемент в зворотньому порядку. Наприклад, маючи (1.2, 2.3, 3.3, 4.3, 5.3, 6.3, 7.3, 8.3, 9.3, 0.3), отримати (0.3, 8.3, 6.3, 4.3, 2.3). Результат збережіть в нову змінну та виведіть на екран."
      ],
      "metadata": {
        "id": "m0xrwFijAmDD"
      }
    },
    {
      "cell_type": "code",
      "source": [
        "a = (0.5, 1.1, 2.8, 3.7, 4.2, 5.3, 6.0, 7.9, 8.6, 9.4, 10.11)\n",
        "\n",
        "res = a[::-1][::2]\n",
        "\n",
        "print(res)"
      ],
      "metadata": {
        "id": "p-5DAH6XfAGA",
        "colab": {
          "base_uri": "https://localhost:8080/"
        },
        "outputId": "9e00e8ce-8e10-4cd9-b14c-d69143bb380f"
      },
      "execution_count": 78,
      "outputs": [
        {
          "output_type": "stream",
          "name": "stdout",
          "text": [
            "(10.11, 8.6, 6.0, 4.2, 2.8, 0.5)\n"
          ]
        }
      ]
    },
    {
      "cell_type": "markdown",
      "source": [
        "# VI. Множини (Set)."
      ],
      "metadata": {
        "id": "rW_I9dt3x6cW"
      }
    },
    {
      "cell_type": "markdown",
      "source": [
        "17. Створити множину без елементів. Після цого за допомогою методу додайте кілька різних елементів до множини. Чи множини є змінним типом даних?"
      ],
      "metadata": {
        "id": "zNjRLHLw1Bgg"
      }
    },
    {
      "cell_type": "code",
      "source": [
        "a = set()\n",
        "a.add(1)\n",
        "a.add('a')\n",
        "a.add(19.9)\n",
        "\n",
        "print(a)"
      ],
      "metadata": {
        "id": "KOv7zc2Kfo4N",
        "colab": {
          "base_uri": "https://localhost:8080/"
        },
        "outputId": "674cb28b-54cb-437a-9d14-23764e6050a2"
      },
      "execution_count": 99,
      "outputs": [
        {
          "output_type": "stream",
          "name": "stdout",
          "text": [
            "{'a', 1, 19.9}\n"
          ]
        }
      ]
    },
    {
      "cell_type": "markdown",
      "source": [
        "Множини є змінним типом данних, оскільки ми можемо додавати елементи до множин і видаляти елементи"
      ],
      "metadata": {
        "id": "vxS6dVYiftZQ"
      }
    },
    {
      "cell_type": "markdown",
      "source": [
        "18. Створити множину, маючи список my_list = [1, 1, 2, 67, 67, 8, 9]. Пояснити, чому \"зникли\" деякі елементи."
      ],
      "metadata": {
        "id": "gHpT0Zw_1HEF"
      }
    },
    {
      "cell_type": "code",
      "source": [
        "my_list = [1, 1, 2, 67, 67, 8, 9]\n",
        "s = set(my_list)\n",
        "\n",
        "print(s)"
      ],
      "metadata": {
        "id": "qCN4uvJ_fxmu",
        "colab": {
          "base_uri": "https://localhost:8080/"
        },
        "outputId": "fb0b5939-1e77-48f0-e0ad-2cde2ed30473"
      },
      "execution_count": 100,
      "outputs": [
        {
          "output_type": "stream",
          "name": "stdout",
          "text": [
            "{1, 2, 67, 8, 9}\n"
          ]
        }
      ]
    },
    {
      "cell_type": "markdown",
      "source": [
        "З множини `s` зникли елементи, які повторювались в списку `my_list`. Множина - це набір унікальних даних"
      ],
      "metadata": {
        "id": "tFNc1e20fyny"
      }
    },
    {
      "cell_type": "markdown",
      "source": [
        "19. Створіть дві множини. Продемонстуйте над ними операції: обʼєднання, різниці, пересічі та симетричної різниці. Використовуйте методи, що не змінюють множини, а створюють нові."
      ],
      "metadata": {
        "id": "SRMkGizS1UwY"
      }
    },
    {
      "cell_type": "code",
      "source": [
        "a = {1, 2, 3, 4, 5}\n",
        "b = {4, 5, 6, 7, 8}\n",
        "\n",
        "un = a.union(b)\n",
        "intersect = a.intersection(b)\n",
        "difference_a = a.difference(b)\n",
        "difference_b = b.difference(a)\n",
        "symmetric_dif = a.symmetric_difference(b)\n",
        "\n",
        "print(f\"Об'єднання: {un}\")\n",
        "print(f\"Перетин: {intersect}\")\n",
        "print(f\"Різниця між множинами A та B: {difference_a}\")\n",
        "print(f\"Різниця між множинами B та A: {difference_b}\")\n",
        "print(f\"Симетрична різниця: {symmetric_dif}\")"
      ],
      "metadata": {
        "id": "h0T-VuDnf3Ri",
        "colab": {
          "base_uri": "https://localhost:8080/"
        },
        "outputId": "a2144139-f18d-4f47-9e12-9bfb0cbd3f36"
      },
      "execution_count": 1,
      "outputs": [
        {
          "output_type": "stream",
          "name": "stdout",
          "text": [
            "Об'єднання: {1, 2, 3, 4, 5, 6, 7, 8}\n",
            "Перетин: {4, 5}\n",
            "Різниця між множинами A та B: {1, 2, 3}\n",
            "Різниця між множинами B та A: {8, 6, 7}\n",
            "Симетрична різниця: {1, 2, 3, 6, 7, 8}\n"
          ]
        }
      ]
    },
    {
      "cell_type": "markdown",
      "source": [
        "# VII. Словники (Dictionary)."
      ],
      "metadata": {
        "id": "kWc8gkzTx7Ea"
      }
    },
    {
      "cell_type": "markdown",
      "source": [
        "20. Створіть пустий словник. До нього додайте чотири пари елементів такі, щоб їхні ключі були різних типів. Чи може список бути ключем? Чому?"
      ],
      "metadata": {
        "id": "i5FLwj-B2ybQ"
      }
    },
    {
      "cell_type": "code",
      "source": [
        "d = {}\n",
        "\n",
        "d[19] = \"int\"\n",
        "d[\"Vlad\"] = \"string\"\n",
        "# d[['l', 'i', 's', 't']] = \"list\" ERROR!\n",
        "d[35.9] = \"float\"\n",
        "d[False] = \"boolean\"\n",
        "\n",
        "print(d)"
      ],
      "metadata": {
        "id": "hxgv3BzrgLAV",
        "colab": {
          "base_uri": "https://localhost:8080/"
        },
        "outputId": "46492a9a-e03c-44bd-96e2-a0ce40ab32f2"
      },
      "execution_count": 6,
      "outputs": [
        {
          "output_type": "stream",
          "name": "stdout",
          "text": [
            "{19: 'int', 'Vlad': 'string', 35.9: 'float', False: 'boolean'}\n"
          ]
        }
      ]
    },
    {
      "cell_type": "markdown",
      "source": [
        "Список не може бути ключем, оскільки ключ має бути незмінним типом даних (immutable)"
      ],
      "metadata": {
        "id": "zwa7UVN-gR3m"
      }
    },
    {
      "cell_type": "markdown",
      "source": [
        "21. Створіть словник, де значенням в одній з пар теж буде словник, який теж має вкладений словник. Виведіть на екран значення, що міститься в словнику, що знаходиться на найнижчому рівні ієрархії вкладеності (найбільш внутрішній)."
      ],
      "metadata": {
        "id": "WM_pMlJsgoNf"
      }
    },
    {
      "cell_type": "code",
      "source": [
        "data_types = {\"numeric\": {\"integer\": [1, 19, 35], \"float\": [19.2, 35.9, 77.7], \"complex number\": 3j + 4, \"boolean\": {\"True\": 1, \"False\": 0}},\n",
        "              \"set\": (1, 2, 3),\n",
        "              \"dictionary\": {1: \"number\", 'p': \"char\"},\n",
        "              \"sequence\": [['l', 'i', 's', 't'], \"string\", {'t', 'u', 'p', 'l', 'e'}]}\n",
        "\n",
        "print(data_types[\"numeric\"][\"boolean\"])"
      ],
      "metadata": {
        "id": "60dlP7IHhAy4",
        "colab": {
          "base_uri": "https://localhost:8080/"
        },
        "outputId": "d5745dab-8211-4d47-95fb-1ca097ed1b63"
      },
      "execution_count": 11,
      "outputs": [
        {
          "output_type": "stream",
          "name": "stdout",
          "text": [
            "{'True': 1, 'False': 0}\n"
          ]
        }
      ]
    },
    {
      "cell_type": "markdown",
      "source": [
        "# Вітаю! Ви велика(ий) молодець, що впоралась(вся). Похваліть себе та побалуйте чимось приємним. Я Вами пишаюся."
      ],
      "metadata": {
        "id": "xOZP0hkx6cCr"
      }
    }
  ]
}