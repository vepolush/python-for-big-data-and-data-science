{
  "nbformat": 4,
  "nbformat_minor": 0,
  "metadata": {
    "colab": {
      "provenance": []
    },
    "kernelspec": {
      "name": "python3",
      "display_name": "Python 3"
    },
    "language_info": {
      "name": "python"
    }
  },
  "cells": [
    {
      "cell_type": "markdown",
      "source": [
        "# I. OOP"
      ],
      "metadata": {
        "id": "5qV_sehzFCTp"
      }
    },
    {
      "cell_type": "markdown",
      "source": [
        "1. (6б). Створіть клас Building, додайте три атрибути, один з яких має значення за замовчуванням та два методи на свій розсуд."
      ],
      "metadata": {
        "id": "tx_U_hOALyfg"
      }
    },
    {
      "cell_type": "code",
      "source": [
        "class Building:\n",
        "    def __init__(self, colour, address, num_floors=1):\n",
        "        self.colour = colour\n",
        "        self.address = address\n",
        "        self.num_floors = num_floors\n",
        "\n",
        "    def change_address(self, new_address):\n",
        "        self.address = new_address\n",
        "        return None\n",
        "\n",
        "    def add_floors(self, amount_of_floors_to_add):\n",
        "        self.num_floors = self.num_floors + amount_of_floors_to_add\n",
        "        return None"
      ],
      "metadata": {
        "id": "-Vf895KaL88N"
      },
      "execution_count": 33,
      "outputs": []
    },
    {
      "cell_type": "markdown",
      "source": [
        "2. (2б). Створіть два обʼєкти цього класу, де один з обʼєктів створюється із дефолтним значенням атрибуту. На одному обʼєкті отримайте значення його атрибуту, а на іншому викличте один з його методів."
      ],
      "metadata": {
        "id": "X_UlOMB0L93w"
      }
    },
    {
      "cell_type": "code",
      "source": [
        "my_house = Building(\"blue\", \"st. Elizaabeth Chavdar\", 25)\n",
        "print(f\"Color of 'my_house' is {my_house.colour}\")\n",
        "\n",
        "parents_cottage_house = Building(\"grey\", \"st. Striletska\")\n",
        "print(f\"\\nMy parents cottage has {parents_cottage_house.num_floors} floor\")\n",
        "parents_cottage_house.add_floors(1)\n",
        "print(f\"After renovation, parrents cottage has {parents_cottage_house.num_floors} floors\")"
      ],
      "metadata": {
        "id": "7gBu0ESOMCpG",
        "colab": {
          "base_uri": "https://localhost:8080/"
        },
        "outputId": "890253f5-1711-403d-ae08-29c337ede3b7"
      },
      "execution_count": 34,
      "outputs": [
        {
          "output_type": "stream",
          "name": "stdout",
          "text": [
            "Color of 'my_house' is blue\n",
            "\n",
            "My parents cottage has 1 floor\n",
            "After renovation, parrents cottage has 2 floors\n"
          ]
        }
      ]
    },
    {
      "cell_type": "markdown",
      "source": [
        "3. (5б). Створіть клас, де атрибути мають різні рівні доступу. Спробуйте отримати їхні значення та опишіть результати."
      ],
      "metadata": {
        "id": "HoqSCZt1MHn5"
      }
    },
    {
      "cell_type": "code",
      "source": [
        "class Tree:\n",
        "    def __init__(self, name, fruit, age=0):\n",
        "        self.name = name # Public\n",
        "        self._fruit = fruit # Protected\n",
        "        self.__age = age # Provate\n",
        "\n",
        "apple_tree = Tree(\"Applejack\", \"apple\", 5)\n",
        "print(apple_tree.name) # Public. Accessible from anywhere (inside or outside the class)\n",
        "# print(apple_tree._fruit) # Protected. Intended for internal use within the class and its subclasses. Access out-side is discouraged\n",
        "# print(apple_tree.age) # Private. Meant for internal use only within the class"
      ],
      "metadata": {
        "id": "r9b3vJxBMSPV",
        "colab": {
          "base_uri": "https://localhost:8080/"
        },
        "outputId": "8b5c1cc0-7ca5-4fc0-d240-e4adb0922e49"
      },
      "execution_count": 35,
      "outputs": [
        {
          "output_type": "stream",
          "name": "stdout",
          "text": [
            "Applejack\n"
          ]
        }
      ]
    },
    {
      "cell_type": "markdown",
      "source": [
        "4. (7б). Як ви розумієте термін self? Для чого використовується метод __init __?"
      ],
      "metadata": {
        "id": "5op2m2vgMSkZ"
      }
    },
    {
      "cell_type": "markdown",
      "source": [
        "1.   Term `self` (`variable self`) is a first parameter given to the `.__init__()`. When we create a new class instance, Python automatically passes the instance to the self parameter in `.__init__()` so that Python can define the new attributes on the object\n",
        "2.   `.__init__()` from the world \"initialize\". We define the properties for the object to have in a method called `.__init__()`\n",
        "\n",
        "\n"
      ],
      "metadata": {
        "id": "DyiPqNRvMasx"
      }
    },
    {
      "cell_type": "markdown",
      "source": [
        "5. (9б). Створіть клас 3D-фігура без атрибутів, з методом get_volume для отримання об'єму фігури, що повертає 0 та __add __, який приймає self та other в якості аргументів, а повертає суму об'ємів 3d-фігур self та other."
      ],
      "metadata": {
        "id": "-6X8EGfjMd2y"
      }
    },
    {
      "cell_type": "code",
      "source": [
        "class Figure:\n",
        "    def __add__(self, other):\n",
        "        return self.get_volume() + other.get_volume()\n",
        "\n",
        "    def get_volume():\n",
        "        return 0"
      ],
      "metadata": {
        "id": "4rvO_wYUMaEr"
      },
      "execution_count": 29,
      "outputs": []
    },
    {
      "cell_type": "markdown",
      "source": [
        "6. (11б). Створіть 2 дочірніх класи від 3d-фігура: Циліндр та Куб, які мають атрибути, необхідні для розрахунку об'єму. Визначте метод get_volume в кожному з них так, щоби вони розраховували об'єм у залежності від формули для кожного типу фігури. Створіть обʼєкт класу Циліндр та обʼєкт класу Куб. Виконайте операцію суми за допомогою оператора + між ними, аби знайти сумарний об'єм."
      ],
      "metadata": {
        "id": "SFcKnnv5Mo_z"
      }
    },
    {
      "cell_type": "code",
      "source": [
        "class Cylinder(Figure):\n",
        "    def __init__(self, base, height):\n",
        "        self.base = base\n",
        "        self.height = height\n",
        "        self.volume = None\n",
        "\n",
        "    def get_volume(self):\n",
        "        # self.volume = self.base * self.height\n",
        "        return self.base * self.height\n",
        "\n",
        "\n",
        "class Cube(Figure):\n",
        "    def __init__(self, side):\n",
        "        self.side = side\n",
        "        self.volume = None\n",
        "\n",
        "    def get_volume(self):\n",
        "        # self.volume = self.side ** 3\n",
        "        return self.side ** 3\n",
        "\n",
        "\n",
        "cylinder1 = Cylinder(5, 5)\n",
        "print(f\"Volume of cylinder: {cylinder1.get_volume()}\") # 25\n",
        "\n",
        "cube1 = Cube(3)\n",
        "print(f\"Volume of cube: {cube1.get_volume()}\") # # 27\n",
        "\n",
        "print(f\"Volume of cylinder and cube: {cylinder1 + cube1}\")"
      ],
      "metadata": {
        "id": "H3GVNr69Muf3",
        "colab": {
          "base_uri": "https://localhost:8080/"
        },
        "outputId": "3c97eee1-69c1-4549-b0bf-81b4250911f6"
      },
      "execution_count": 31,
      "outputs": [
        {
          "output_type": "stream",
          "name": "stdout",
          "text": [
            "Volume of cylinder: 25\n",
            "Volume of cube: 27\n",
            "Volume of cylinder and cube: 52\n"
          ]
        }
      ]
    },
    {
      "cell_type": "markdown",
      "source": [
        "7. (3б). Продемонструйте різницю між isinstance та issubclass."
      ],
      "metadata": {
        "id": "HCvR206YMvLK"
      }
    },
    {
      "cell_type": "code",
      "source": [
        "isinstance(my_house, Building) # Use \"isinctance()\"\" to check an instance type. \"my_house\" is an object of \"class Building\"\n",
        "\n",
        "issubclass(Cylinder, Figure) # Use \"issubclass()\" to check inheritance. \"class Cylinder\" is is inherited from \"class Figure\""
      ],
      "metadata": {
        "id": "L_V1bBvDM0GN",
        "colab": {
          "base_uri": "https://localhost:8080/"
        },
        "outputId": "f39ccf8a-27bd-43fa-a44b-a8f789c90a52"
      },
      "execution_count": 45,
      "outputs": [
        {
          "output_type": "execute_result",
          "data": {
            "text/plain": [
              "True"
            ]
          },
          "metadata": {},
          "execution_count": 45
        }
      ]
    },
    {
      "cell_type": "markdown",
      "source": [
        "8. (13б). Створіть клас EWallet з приватними атрибутами balance та id. Реалізуйте методи поповнення та зняття коштів, забезпечивши належну інкапсуляцію. Підказка: використовуйте декоратори property та setter."
      ],
      "metadata": {
        "id": "jjsaBZ-iM0Qq"
      }
    },
    {
      "cell_type": "code",
      "source": [
        "class EWallet:\n",
        "    def __init__(self, balance, id):\n",
        "        self.__balance = balance\n",
        "        self.__id = id\n",
        "\n",
        "    @property\n",
        "    def balance(self):\n",
        "        return self.__balance\n",
        "\n",
        "    @balance.setter\n",
        "    def deposit(self, amount):\n",
        "        try:\n",
        "            if amount >= 0:\n",
        "                self.__balance = self.__balance + amount\n",
        "            else:\n",
        "                print(\"You may want to withdraw your balance.\")\n",
        "        except TypeError:\n",
        "            print(\"You should enter a number!\")\n",
        "\n",
        "    @balance.setter\n",
        "    def withdraw(self, amount):\n",
        "        try:\n",
        "            if amount >= 0:\n",
        "                self.__balance = self.__balance - amount\n",
        "            else:\n",
        "                self.__balance = self.__balance + amount\n",
        "        except TypeError:\n",
        "            print(\"You should enter a number!\")\n",
        "\n",
        "\n",
        "vlad_wallet = EWallet(100, 515901828)\n",
        "vlad_wallet.balance\n",
        "vlad_wallet.deposit = 'hahahah'\n",
        "vlad_wallet.balance\n",
        "vlad_wallet.withdraw = -90\n",
        "vlad_wallet.balance"
      ],
      "metadata": {
        "id": "xCvZ7lh8M7YA",
        "colab": {
          "base_uri": "https://localhost:8080/"
        },
        "outputId": "762fd413-c1ee-47e3-a6b7-997aa9187a48"
      },
      "execution_count": 74,
      "outputs": [
        {
          "output_type": "stream",
          "name": "stdout",
          "text": [
            "You should enter a number!\n"
          ]
        },
        {
          "output_type": "execute_result",
          "data": {
            "text/plain": [
              "10"
            ]
          },
          "metadata": {},
          "execution_count": 74
        }
      ]
    },
    {
      "cell_type": "markdown",
      "source": [
        "9. (11б). Створіть клас ShoppingCart, який містить список об'єктів типу Item. Реалізуйте методи для додавання айтемів, їх видалення та відображення списку айтемів."
      ],
      "metadata": {
        "id": "tIzL2SJTM8ft"
      }
    },
    {
      "cell_type": "code",
      "source": [
        "class ShoppingCart:\n",
        "    def __init__(self):\n",
        "        self.__food = []\n",
        "\n",
        "    @property\n",
        "    def food(self):\n",
        "        return self.__food\n",
        "\n",
        "    @food.setter\n",
        "    def add_item(self, item):\n",
        "        self.__food.append(item)\n",
        "\n",
        "    @food.setter\n",
        "    def del_item(self, item):\n",
        "        self.food.remove(item)\n",
        "\n",
        "\n",
        "vlad_shopping_cart = ShoppingCart()\n",
        "vlad_shopping_cart.food\n",
        "vlad_shopping_cart.add_item = \"Milk\"\n",
        "vlad_shopping_cart.add_item = \"Bread\"\n",
        "vlad_shopping_cart.add_item = \"Cake\"\n",
        "vlad_shopping_cart.food\n",
        "vlad_shopping_cart.del_item = \"Bread\"\n",
        "vlad_shopping_cart.food"
      ],
      "metadata": {
        "id": "HWxfJKLtNAUZ",
        "colab": {
          "base_uri": "https://localhost:8080/"
        },
        "outputId": "174b8b3e-66e5-4e2f-dfa8-74f52677bbde"
      },
      "execution_count": 81,
      "outputs": [
        {
          "output_type": "execute_result",
          "data": {
            "text/plain": [
              "['Milk', 'Cake']"
            ]
          },
          "metadata": {},
          "execution_count": 81
        }
      ]
    },
    {
      "cell_type": "markdown",
      "source": [
        "10. (13б). Створіть клас Vehicle з атрибутами brand (manufacturer) та production_age. Створіть ще один клас Engine з такими атрибутами, як type (ex. petrol) та size (volume, litres). Створіть клас Car, який успадковує обидва класи Vehicle та Engine. Продемонструйте використання множинної спадковості, створивши обʼєкт класу Car та отримавши mro для цього класу."
      ],
      "metadata": {
        "id": "lmV8pAwwNIqu"
      }
    },
    {
      "cell_type": "code",
      "source": [
        "class Vehicle:\n",
        "    def __init__(self, brand, production_age):\n",
        "        self.brand = brand\n",
        "        self.production_age = production_age\n",
        "\n",
        "\n",
        "class Engine:\n",
        "    def __init__(self, engine_type, size):\n",
        "        self.engine_type = engine_type\n",
        "        self.size = size\n",
        "\n",
        "\n",
        "class Car(Vehicle, Engine):\n",
        "    def __init__(self, brand, production_age, engine_type, size):\n",
        "        Vehicle.__init__(self, brand, production_age)\n",
        "        Engine.__init__(self, engine_type, size)\n",
        "\n",
        "\n",
        "audi_a6_2015 = Car(\"Audi\", \"2015\", \"diesel\", 2)\n",
        "Car.mro()"
      ],
      "metadata": {
        "id": "R49grKlWNPeN",
        "colab": {
          "base_uri": "https://localhost:8080/"
        },
        "outputId": "0ec311fd-63d5-41da-c927-dc87690d2e4c"
      },
      "execution_count": 85,
      "outputs": [
        {
          "output_type": "execute_result",
          "data": {
            "text/plain": [
              "[__main__.Car, __main__.Vehicle, __main__.Engine, object]"
            ]
          },
          "metadata": {},
          "execution_count": 85
        }
      ]
    },
    {
      "cell_type": "markdown",
      "source": [
        "# II. Iterator"
      ],
      "metadata": {
        "id": "dIJyUiNBFG8G"
      }
    },
    {
      "cell_type": "markdown",
      "source": [
        "11. (4б). Визначте рядок(str) з 4ма різними за значенням символами. Створіть ітератор на основі цього рядка. Викличте 5 разів функцію next на ітераторі, 4ри перших з них огорніть у ф-цію print()."
      ],
      "metadata": {
        "id": "13vsm0NyKIzL"
      }
    },
    {
      "cell_type": "code",
      "source": [
        "name = \"Vlad\"\n",
        "\n",
        "name_iter = iter(name)\n",
        "\n",
        "print(next(name_iter))\n",
        "print(next(name_iter))\n",
        "print(next(name_iter))\n",
        "print(next(name_iter))\n",
        "next(name_iter)"
      ],
      "metadata": {
        "id": "81ntabAkKuz-",
        "colab": {
          "base_uri": "https://localhost:8080/",
          "height": 241
        },
        "outputId": "20bc2226-d485-4345-a9d1-24d3680cd357"
      },
      "execution_count": 89,
      "outputs": [
        {
          "output_type": "stream",
          "name": "stdout",
          "text": [
            "V\n",
            "l\n",
            "a\n",
            "d\n"
          ]
        },
        {
          "output_type": "error",
          "ename": "StopIteration",
          "evalue": "",
          "traceback": [
            "\u001b[0;31m---------------------------------------------------------------------------\u001b[0m",
            "\u001b[0;31mStopIteration\u001b[0m                             Traceback (most recent call last)",
            "\u001b[0;32m<ipython-input-89-43b8164a113e>\u001b[0m in \u001b[0;36m<cell line: 0>\u001b[0;34m()\u001b[0m\n\u001b[1;32m      7\u001b[0m \u001b[0mprint\u001b[0m\u001b[0;34m(\u001b[0m\u001b[0mnext\u001b[0m\u001b[0;34m(\u001b[0m\u001b[0mname_iter\u001b[0m\u001b[0;34m)\u001b[0m\u001b[0;34m)\u001b[0m\u001b[0;34m\u001b[0m\u001b[0;34m\u001b[0m\u001b[0m\n\u001b[1;32m      8\u001b[0m \u001b[0mprint\u001b[0m\u001b[0;34m(\u001b[0m\u001b[0mnext\u001b[0m\u001b[0;34m(\u001b[0m\u001b[0mname_iter\u001b[0m\u001b[0;34m)\u001b[0m\u001b[0;34m)\u001b[0m\u001b[0;34m\u001b[0m\u001b[0;34m\u001b[0m\u001b[0m\n\u001b[0;32m----> 9\u001b[0;31m \u001b[0mnext\u001b[0m\u001b[0;34m(\u001b[0m\u001b[0mname_iter\u001b[0m\u001b[0;34m)\u001b[0m\u001b[0;34m\u001b[0m\u001b[0;34m\u001b[0m\u001b[0m\n\u001b[0m",
            "\u001b[0;31mStopIteration\u001b[0m: "
          ]
        }
      ]
    },
    {
      "cell_type": "markdown",
      "source": [
        "А що якщо викликати цю ж функцію на рядку?"
      ],
      "metadata": {
        "id": "aekWHGXOLRsO"
      }
    },
    {
      "cell_type": "code",
      "source": [
        "name_iter"
      ],
      "metadata": {
        "id": "mxATGsErLV1i",
        "colab": {
          "base_uri": "https://localhost:8080/"
        },
        "outputId": "d79dd0ea-fb62-41fb-8872-1741707ce076"
      },
      "execution_count": 90,
      "outputs": [
        {
          "output_type": "execute_result",
          "data": {
            "text/plain": [
              "<str_ascii_iterator at 0x7df2bd4dd690>"
            ]
          },
          "metadata": {},
          "execution_count": 90
        }
      ]
    },
    {
      "cell_type": "markdown",
      "source": [
        " 12. (5б). Опишіть своїми словами в одному реченні, як ви розумієте різницю між ітерабельними обʼєктами та ітераторами (можна на прикладі)."
      ],
      "metadata": {
        "id": "XwtMEopwJ4pH"
      }
    },
    {
      "cell_type": "markdown",
      "source": [
        "1. An iterator is an object that contains a countable number of values (list, tuple, string)\n",
        "2. Iterables, on the other hand, provide the data you want to iterate over"
      ],
      "metadata": {
        "id": "-sHrODc3KFn8"
      }
    },
    {
      "cell_type": "markdown",
      "source": [
        "13. (11б). Створіть клас, що має визначений Iterator Protocol та при кожному виклику next повертає назву дня тижня, поки вони не вичерпаються. Зверніть увагу, що порядок має значення."
      ],
      "metadata": {
        "id": "E9qJWmNbK8Gl"
      }
    },
    {
      "cell_type": "code",
      "source": [
        "class Week:\n",
        "    def __init__(self):\n",
        "        self.days_of_the_week = [\"Monday\", \"Tuesday\", \"Wednesday\", \"Thursday\", \"Friday\", \"Saturday\", \"Sunday\"]\n",
        "        self.__index = 0\n",
        "\n",
        "    def __iter__(self):\n",
        "        return self\n",
        "\n",
        "    def __next__(self):\n",
        "        if self.__index < len(self.days_of_the_week):\n",
        "            item = self.days_of_the_week[self.__index]\n",
        "            self.__index += 1\n",
        "            return item\n",
        "        else:\n",
        "            raise StopIteration\n",
        "\n",
        "week5 = Week()\n",
        "for day in week5:\n",
        "    print(day)"
      ],
      "metadata": {
        "id": "cqx-g_RsLo6I",
        "colab": {
          "base_uri": "https://localhost:8080/"
        },
        "outputId": "f6a64879-ab17-474c-de85-c995ab30320a"
      },
      "execution_count": 111,
      "outputs": [
        {
          "output_type": "stream",
          "name": "stdout",
          "text": [
            "Monday\n",
            "Tuesday\n",
            "Wednesday\n",
            "Thursday\n",
            "Friday\n",
            "Saturday\n",
            "Sunday\n"
          ]
        }
      ]
    },
    {
      "cell_type": "markdown",
      "source": [
        "# Вітаю! Ви велика(ий) молодець, що впоралась(вся). Похваліть себе та побалуйте чимось приємним. Я Вами пишаюся."
      ],
      "metadata": {
        "id": "Z3E3S_s1Fv7-"
      }
    }
  ]
}